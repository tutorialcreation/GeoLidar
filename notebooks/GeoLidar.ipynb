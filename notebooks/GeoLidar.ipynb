{
 "cells": [
  {
   "cell_type": "code",
   "execution_count": 15,
   "id": "c80fe10f-a45f-42e9-98a9-d7d11dae25d1",
   "metadata": {},
   "outputs": [],
   "source": [
    "import geopandas as gpd\n",
    "import laspy\n",
    "import pdal\n",
    "import json,os\n",
    "import pandas as pd"
   ]
  },
  {
   "cell_type": "code",
   "execution_count": 2,
   "id": "59545a8f-c20e-4f15-951e-34360ba157f6",
   "metadata": {},
   "outputs": [],
   "source": [
    "json_to_store = {\n",
    "    \"pipeline\": [\n",
    "        {\n",
    "\"bounds\": \"([-10425171.940, -10423171.940], [5164494.710, 5166494.710])\",\n",
    "\"filename\": \"https://s3-us-west-2.amazonaws.com/usgs-lidar-public/IA_FullState/ept.json\",\n",
    "\"type\": \"readers.ept\",\n",
    "\"tag\": \"readdata\"\n",
    "        },\n",
    "        {\n",
    "            \"limits\": \"Classification![7:7]\",\n",
    "            \"type\": \"filters.range\",\n",
    "            \"tag\": \"nonoise\"\n",
    "        },\n",
    "        {\n",
    "            \"assignment\": \"Classification[:]=0\",\n",
    "            \"tag\": \"wipeclasses\",\n",
    "            \"type\": \"filters.assign\"\n",
    "        },\n",
    "        {\n",
    "            \"out_srs\": \"EPSG:26915\",\n",
    "            \"tag\": \"reprojectUTM\",\n",
    "            \"type\": \"filters.reprojection\"\n",
    "        },\n",
    "        {\n",
    "            \"tag\": \"groundify\",\n",
    "            \"type\": \"filters.smrf\"\n",
    "        },\n",
    "        {\n",
    "            \"limits\": \"Classification[2:2]\",\n",
    "            \"type\": \"filters.range\",\n",
    "            \"tag\": \"classify\"\n",
    "        },\n",
    "        {\n",
    "            \"filename\": \"../data/iowa.laz\",\n",
    "            \"inputs\": [ \"classify\" ],\n",
    "            \"tag\": \"writerslas\",\n",
    "            \"type\": \"writers.las\"\n",
    "        },\n",
    "        {\n",
    "            \"filename\": \"../data/iowa.tif\",\n",
    "            \"gdalopts\": \"tiled=yes,     compress=deflate\",\n",
    "            \"inputs\": [ \"writerslas\" ],\n",
    "            \"nodata\": -9999,\n",
    "            \"output_type\": \"idw\",\n",
    "            \"resolution\": 1,\n",
    "            \"type\": \"writers.gdal\",\n",
    "            \"window_size\": 6\n",
    "        }\n",
    "    ]\n",
    "}"
   ]
  },
  {
   "cell_type": "code",
   "execution_count": 26,
   "id": "aad5c61c-b419-4f48-a6c2-9c00b83e122d",
   "metadata": {},
   "outputs": [],
   "source": [
    "json_object = json.dumps(json_to_store, indent = 4)\n",
    "  \n",
    "# Writing to sample.json\n",
    "with open(\"../data/iowa.json\", \"w\") as outfile:\n",
    "    outfile.write(json_object)"
   ]
  },
  {
   "cell_type": "code",
   "execution_count": 30,
   "id": "8cf77015-e38b-46b4-92e0-f884aaa48326",
   "metadata": {},
   "outputs": [
    {
     "data": {
      "text/plain": [
       "[{'bounds': '([-10425171.940, -10423171.940], [5164494.710, 5166494.710])',\n",
       "  'filename': 'https://s3-us-west-2.amazonaws.com/usgs-lidar-public/IA_FullState/ept.json',\n",
       "  'type': 'readers.ept',\n",
       "  'tag': 'readdata'},\n",
       " {'limits': 'Classification![7:7]', 'type': 'filters.range', 'tag': 'nonoise'},\n",
       " {'assignment': 'Classification[:]=0',\n",
       "  'tag': 'wipeclasses',\n",
       "  'type': 'filters.assign'},\n",
       " {'out_srs': 'EPSG:26915',\n",
       "  'tag': 'reprojectUTM',\n",
       "  'type': 'filters.reprojection'},\n",
       " {'tag': 'groundify', 'type': 'filters.smrf'},\n",
       " {'limits': 'Classification[2:2]', 'type': 'filters.range', 'tag': 'classify'},\n",
       " {'filename': '../data/iowa.laz',\n",
       "  'inputs': ['classify'],\n",
       "  'tag': 'writerslas',\n",
       "  'type': 'writers.las'},\n",
       " {'filename': '../data/iowa.tif',\n",
       "  'gdalopts': 'tiled=yes,     compress=deflate',\n",
       "  'inputs': ['writerslas'],\n",
       "  'nodata': -9999,\n",
       "  'output_type': 'idw',\n",
       "  'resolution': 1,\n",
       "  'type': 'writers.gdal',\n",
       "  'window_size': 6}]"
      ]
     },
     "execution_count": 30,
     "metadata": {},
     "output_type": "execute_result"
    }
   ],
   "source": [
    "json_to_store['pipeline']"
   ]
  },
  {
   "cell_type": "code",
   "execution_count": 4,
   "id": "926ff589-508d-427d-a7cd-22d69abb2bb5",
   "metadata": {},
   "outputs": [
    {
     "name": "stderr",
     "output_type": "stream",
     "text": [
      "(PDAL Debug) Debugging...\n",
      "(pdal pipeline readers.ept Debug) Query bounds: ([-10425171.94, -10423171.94], [5164494.71, 5166494.71], [-1.797693134862316e+308, 1.797693134862316e+308])\n",
      "Threads: 15\n",
      "(pdal pipeline Debug) Executing pipeline in standard mode.\n",
      "(pdal pipeline filters.smrf Debug) progressiveFilter: radius = 1\t2234705 ground cells\t3302 non-ground cells\t(0.15% of cells contain ground)\n",
      "(pdal pipeline filters.smrf Debug) progressiveFilter: radius = 1\t2026879 ground cells\t211128 non-ground cells\t(9.43% of cells contain ground)\n",
      "(pdal pipeline filters.smrf Debug) progressiveFilter: radius = 2\t1979134 ground cells\t258873 non-ground cells\t(11.57% of cells contain ground)\n",
      "(pdal pipeline filters.smrf Debug) progressiveFilter: radius = 3\t1959708 ground cells\t278299 non-ground cells\t(12.44% of cells contain ground)\n",
      "(pdal pipeline filters.smrf Debug) progressiveFilter: radius = 4\t1948026 ground cells\t289981 non-ground cells\t(12.96% of cells contain ground)\n",
      "(pdal pipeline filters.smrf Debug) progressiveFilter: radius = 5\t1938090 ground cells\t299917 non-ground cells\t(13.40% of cells contain ground)\n",
      "(pdal pipeline filters.smrf Debug) progressiveFilter: radius = 6\t1925499 ground cells\t312508 non-ground cells\t(13.96% of cells contain ground)\n",
      "(pdal pipeline filters.smrf Debug) progressiveFilter: radius = 7\t1911658 ground cells\t326349 non-ground cells\t(14.58% of cells contain ground)\n",
      "(pdal pipeline filters.smrf Debug) progressiveFilter: radius = 8\t1898511 ground cells\t339496 non-ground cells\t(15.17% of cells contain ground)\n",
      "(pdal pipeline filters.smrf Debug) progressiveFilter: radius = 9\t1882672 ground cells\t355335 non-ground cells\t(15.88% of cells contain ground)\n",
      "(pdal pipeline filters.smrf Debug) progressiveFilter: radius = 10\t1869628 ground cells\t368379 non-ground cells\t(16.46% of cells contain ground)\n",
      "(pdal pipeline filters.smrf Debug) progressiveFilter: radius = 11\t1861525 ground cells\t376482 non-ground cells\t(16.82% of cells contain ground)\n",
      "(pdal pipeline filters.smrf Debug) progressiveFilter: radius = 12\t1854686 ground cells\t383321 non-ground cells\t(17.13% of cells contain ground)\n",
      "(pdal pipeline filters.smrf Debug) progressiveFilter: radius = 13\t1850208 ground cells\t387799 non-ground cells\t(17.33% of cells contain ground)\n",
      "(pdal pipeline filters.smrf Debug) progressiveFilter: radius = 14\t1845730 ground cells\t392277 non-ground cells\t(17.53% of cells contain ground)\n",
      "(pdal pipeline filters.smrf Debug) progressiveFilter: radius = 15\t1840343 ground cells\t397664 non-ground cells\t(17.77% of cells contain ground)\n",
      "(pdal pipeline filters.smrf Debug) progressiveFilter: radius = 16\t1835968 ground cells\t402039 non-ground cells\t(17.96% of cells contain ground)\n",
      "(pdal pipeline filters.smrf Debug) progressiveFilter: radius = 17\t1833342 ground cells\t404665 non-ground cells\t(18.08% of cells contain ground)\n",
      "(pdal pipeline filters.smrf Debug) progressiveFilter: radius = 18\t1826958 ground cells\t411049 non-ground cells\t(18.37% of cells contain ground)\n",
      "(pdal pipeline filters.smrf Debug) \t1399943 ground points\t207257 non-ground points\t(12.90% classified as ground)\n",
      "(pdal pipeline writers.las Debug) Wrote 1399943 points to the LAS file\n"
     ]
    },
    {
     "data": {
      "text/plain": [
       "0"
      ]
     },
     "execution_count": 4,
     "metadata": {},
     "output_type": "execute_result"
    }
   ],
   "source": [
    "os.system('pdal pipeline ../data/iowa.json --debug')"
   ]
  },
  {
   "cell_type": "code",
   "execution_count": 5,
   "id": "36243415-343b-4bb9-aa4e-8d6116c6b422",
   "metadata": {},
   "outputs": [
    {
     "name": "stdout",
     "output_type": "stream",
     "text": [
      "0...10...20...30...40...50...60...70...80...90...100 - done.\n"
     ]
    },
    {
     "data": {
      "text/plain": [
       "0"
      ]
     },
     "execution_count": 5,
     "metadata": {},
     "output_type": "execute_result"
    }
   ],
   "source": [
    "os.system('gdaldem color-relief ../data/iowa.tif ../data/dem-colors.txt ../data/iowa-color.png')"
   ]
  },
  {
   "cell_type": "code",
   "execution_count": 6,
   "id": "09bd0a6c-de12-435e-8961-718f17ca421b",
   "metadata": {},
   "outputs": [],
   "source": [
    "pipeline=pdal.Reader('../data/iowa.laz').pipeline()"
   ]
  },
  {
   "cell_type": "code",
   "execution_count": 7,
   "id": "bae8595e-a372-4b31-b968-04018a899199",
   "metadata": {},
   "outputs": [],
   "source": [
    "count = pipeline.execute()"
   ]
  },
  {
   "cell_type": "code",
   "execution_count": 8,
   "id": "8deba767-48f1-4dc3-9b8f-86fb4762b8dd",
   "metadata": {},
   "outputs": [
    {
     "data": {
      "text/plain": [
       "[array([(447498.6 , 4654050.85, 273.11, 167, 1, 1, 0, 0, 2, 5., 70, 79, 55121.22966839, 0, 0, 0),\n",
       "        (447496.79, 4654050.48, 273.13, 148, 1, 1, 0, 0, 2, 5., 70, 79, 55121.22967856, 0, 0, 0),\n",
       "        (447490.44, 4654050.26, 273.15, 133, 1, 1, 1, 0, 2, 5., 70, 79, 55121.24323788, 0, 0, 0),\n",
       "        ...,\n",
       "        (446338.1 , 4652585.34, 282.08,  90, 1, 1, 1, 0, 2, 2., 69, 85, 56180.39031803, 0, 0, 0),\n",
       "        (446271.66, 4652586.13, 282.19,  12, 1, 1, 1, 0, 2, 4., 69, 85, 56180.5284318 , 0, 0, 0),\n",
       "        (446206.28, 4652586.53, 282.78,  44, 1, 1, 1, 0, 2, 6., 69, 85, 56180.66654557, 0, 0, 0)],\n",
       "       dtype=[('X', '<f8'), ('Y', '<f8'), ('Z', '<f8'), ('Intensity', '<u2'), ('ReturnNumber', 'u1'), ('NumberOfReturns', 'u1'), ('ScanDirectionFlag', 'u1'), ('EdgeOfFlightLine', 'u1'), ('Classification', 'u1'), ('ScanAngleRank', '<f4'), ('UserData', 'u1'), ('PointSourceId', '<u2'), ('GpsTime', '<f8'), ('Red', '<u2'), ('Green', '<u2'), ('Blue', '<u2')])]"
      ]
     },
     "execution_count": 8,
     "metadata": {},
     "output_type": "execute_result"
    }
   ],
   "source": [
    "arrays = pipeline.arrays\n",
    "arrays"
   ]
  },
  {
   "cell_type": "code",
   "execution_count": 9,
   "id": "f8bbf4ab-e1cf-4c03-82d2-af5e4c153f5f",
   "metadata": {},
   "outputs": [],
   "source": [
    "metadata = pipeline.metadata"
   ]
  },
  {
   "cell_type": "code",
   "execution_count": 10,
   "id": "9e6891b3-1a12-4a1c-90e5-448d2a62a2ff",
   "metadata": {},
   "outputs": [],
   "source": [
    "log = pipeline.log"
   ]
  },
  {
   "cell_type": "code",
   "execution_count": 11,
   "id": "2a9aad97-3aee-4189-a002-1fad0984ab87",
   "metadata": {},
   "outputs": [],
   "source": [
    "array = arrays.pop()"
   ]
  },
  {
   "cell_type": "code",
   "execution_count": 12,
   "id": "68862353-7191-4d1c-8e56-12d4bb730012",
   "metadata": {},
   "outputs": [
    {
     "data": {
      "text/plain": [
       "(1399943,)"
      ]
     },
     "execution_count": 12,
     "metadata": {},
     "output_type": "execute_result"
    }
   ],
   "source": [
    "array.shape"
   ]
  },
  {
   "cell_type": "code",
   "execution_count": 37,
   "id": "223b55f4-e74c-4ba1-81db-e06cb67b26f5",
   "metadata": {},
   "outputs": [],
   "source": [
    "def load_geolidar(csv,filename=None,path_to_json=None):\n",
    "    # Open the csv\n",
    "    _csv = pd.read_csv(csv)\n",
    "    # Open the JSON\n",
    "    with open(path_to_json) as json_file:\n",
    "        the_json = json.load(json_file)\n",
    "    # Open an empty csv on S3\n",
    "    with open(filename, 'w') as fp:\n",
    "        fp.write('id,x,y,z\\n')\n",
    "    # write into csv\n",
    "    print(the_json)\n",
    "    for _id, _filename, _bounds, _polygon in zip(_csv.id, _csv.filename, _csv.bounds, _csv.polygon):\n",
    "        the_json[0]['filename'] = _filename\n",
    "        the_json[0]['bounds'] = _bounds\n",
    "        the_json[4]['polygon'] = _polygon\n",
    "        pipeline = pdal.Pipeline(json.dumps(the_json))\n",
    "        try:\n",
    "            pipeline.execute()\n",
    "            xyz = pipeline.arrays[0][['X','Y','Z']][0]\n",
    "            fp.write(f'{_id},{xyz[0]:.2f},{xyz[1]:.2f},{xyz[2]:.2f}\\n')\n",
    "        except RuntimeError as e:\n",
    "                print(e)\n",
    "                # RuntimeError: filters.hag: Input PointView does not have any points classified as ground\n",
    "                print('RunTime Error, writing 0s and moving to next bounds')\n",
    "                fp.write(f'{_id},0,0,0\\n')\n",
    "                pass"
   ]
  },
  {
   "cell_type": "code",
   "execution_count": 38,
   "id": "bb27175e-310f-48ab-a9a5-f21ee32e3a27",
   "metadata": {},
   "outputs": [
    {
     "name": "stdout",
     "output_type": "stream",
     "text": [
      "{'pipeline': [{'bounds': '([-10425171.940, -10423171.940], [5164494.710, 5166494.710])', 'filename': 'https://s3-us-west-2.amazonaws.com/usgs-lidar-public/IA_FullState/ept.json', 'type': 'readers.ept', 'tag': 'readdata'}, {'limits': 'Classification![7:7]', 'type': 'filters.range', 'tag': 'nonoise'}, {'assignment': 'Classification[:]=0', 'tag': 'wipeclasses', 'type': 'filters.assign'}, {'out_srs': 'EPSG:26915', 'tag': 'reprojectUTM', 'type': 'filters.reprojection'}, {'tag': 'groundify', 'type': 'filters.smrf'}, {'limits': 'Classification[2:2]', 'type': 'filters.range', 'tag': 'classify'}, {'filename': '../data/iowa.laz', 'inputs': ['classify'], 'tag': 'writerslas', 'type': 'writers.las'}, {'filename': '../data/iowa.tif', 'gdalopts': 'tiled=yes,     compress=deflate', 'inputs': ['writerslas'], 'nodata': -9999, 'output_type': 'idw', 'resolution': 1, 'type': 'writers.gdal', 'window_size': 6}]}\n"
     ]
    }
   ],
   "source": [
    "load_geolidar('../data/iowa_template.csv','../data/iowa.csv','../data/iowa.json')"
   ]
  },
  {
   "cell_type": "code",
   "execution_count": 40,
   "id": "d9b5df10-8eac-4618-8e79-a290cc1cf5a9",
   "metadata": {},
   "outputs": [],
   "source": [
    "with open('../data/iowa.json') as json_file:\n",
    "        the_json = json.load(json_file)"
   ]
  },
  {
   "cell_type": "code",
   "execution_count": null,
   "id": "d12660c1-d5d0-4f95-86bb-5c5663d552ca",
   "metadata": {},
   "outputs": [],
   "source": []
  },
  {
   "cell_type": "code",
   "execution_count": null,
   "id": "9db08cce-cc06-4e58-9695-8143d37b5360",
   "metadata": {},
   "outputs": [],
   "source": []
  }
 ],
 "metadata": {
  "kernelspec": {
   "display_name": "Python 3 (ipykernel)",
   "language": "python",
   "name": "python3"
  },
  "language_info": {
   "codemirror_mode": {
    "name": "ipython",
    "version": 3
   },
   "file_extension": ".py",
   "mimetype": "text/x-python",
   "name": "python",
   "nbconvert_exporter": "python",
   "pygments_lexer": "ipython3",
   "version": "3.10.5"
  }
 },
 "nbformat": 4,
 "nbformat_minor": 5
}
