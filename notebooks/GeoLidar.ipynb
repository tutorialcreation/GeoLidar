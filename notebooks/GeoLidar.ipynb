{
 "cells": [
  {
   "cell_type": "code",
   "execution_count": 81,
   "id": "c80fe10f-a45f-42e9-98a9-d7d11dae25d1",
   "metadata": {},
   "outputs": [],
   "source": [
    "import geopandas as gpd\n",
    "import laspy\n",
    "import pdal\n",
    "import json,os"
   ]
  },
  {
   "cell_type": "code",
   "execution_count": 74,
   "id": "59545a8f-c20e-4f15-951e-34360ba157f6",
   "metadata": {},
   "outputs": [],
   "source": [
    "json_to_store = {\n",
    "    \"pipeline\": [\n",
    "        {\n",
    "\"bounds\": \"([-10425171.940, -10423171.940], [5164494.710, 5166494.710])\",\n",
    "\"filename\": \"https://s3-us-west-2.amazonaws.com/usgs-lidar-public/IA_FullState/ept.json\",\n",
    "\"type\": \"readers.ept\",\n",
    "\"tag\": \"readdata\"\n",
    "        },\n",
    "        {\n",
    "            \"limits\": \"Classification![7:7]\",\n",
    "            \"type\": \"filters.range\",\n",
    "            \"tag\": \"nonoise\"\n",
    "        },\n",
    "        {\n",
    "            \"assignment\": \"Classification[:]=0\",\n",
    "            \"tag\": \"wipeclasses\",\n",
    "            \"type\": \"filters.assign\"\n",
    "        },\n",
    "        {\n",
    "            \"out_srs\": \"EPSG:26915\",\n",
    "            \"tag\": \"reprojectUTM\",\n",
    "            \"type\": \"filters.reprojection\"\n",
    "        },\n",
    "        {\n",
    "            \"tag\": \"groundify\",\n",
    "            \"type\": \"filters.smrf\"\n",
    "        },\n",
    "        {\n",
    "            \"limits\": \"Classification[2:2]\",\n",
    "            \"type\": \"filters.range\",\n",
    "            \"tag\": \"classify\"\n",
    "        },\n",
    "        {\n",
    "            \"filename\": \"iowa.laz\",\n",
    "            \"inputs\": [ \"classify\" ],\n",
    "            \"tag\": \"writerslas\",\n",
    "            \"type\": \"writers.las\"\n",
    "        },\n",
    "        {\n",
    "            \"filename\": \"iowa.tif\",\n",
    "            \"gdalopts\": \"tiled=yes,     compress=deflate\",\n",
    "            \"inputs\": [ \"writerslas\" ],\n",
    "            \"nodata\": -9999,\n",
    "            \"output_type\": \"idw\",\n",
    "            \"resolution\": 1,\n",
    "            \"type\": \"writers.gdal\",\n",
    "            \"window_size\": 6\n",
    "        }\n",
    "    ]\n",
    "}"
   ]
  },
  {
   "cell_type": "code",
   "execution_count": 79,
   "id": "aad5c61c-b419-4f48-a6c2-9c00b83e122d",
   "metadata": {},
   "outputs": [],
   "source": [
    "json_object = json.dumps(json_to_store, indent = 4)\n",
    "  \n",
    "# Writing to sample.json\n",
    "with open(\"../data/iowa.json\", \"w\") as outfile:\n",
    "    outfile.write(json_object)"
   ]
  },
  {
   "cell_type": "code",
   "execution_count": 84,
   "id": "926ff589-508d-427d-a7cd-22d69abb2bb5",
   "metadata": {},
   "outputs": [
    {
     "name": "stderr",
     "output_type": "stream",
     "text": [
      "(PDAL Debug) Debugging...\n",
      "(pdal pipeline readers.ept Debug) Query bounds: ([-10425171.94, -10423171.94], [5164494.71, 5166494.71], [-1.797693134862316e+308, 1.797693134862316e+308])\n",
      "Threads: 15\n",
      "(pdal pipeline Debug) Executing pipeline in standard mode.\n",
      "(pdal pipeline filters.smrf Debug) progressiveFilter: radius = 1\t2234705 ground cells\t3302 non-ground cells\t(0.15% of cells contain ground)\n",
      "(pdal pipeline filters.smrf Debug) progressiveFilter: radius = 1\t2026879 ground cells\t211128 non-ground cells\t(9.43% of cells contain ground)\n",
      "(pdal pipeline filters.smrf Debug) progressiveFilter: radius = 2\t1979134 ground cells\t258873 non-ground cells\t(11.57% of cells contain ground)\n",
      "(pdal pipeline filters.smrf Debug) progressiveFilter: radius = 3\t1959708 ground cells\t278299 non-ground cells\t(12.44% of cells contain ground)\n",
      "(pdal pipeline filters.smrf Debug) progressiveFilter: radius = 4\t1948026 ground cells\t289981 non-ground cells\t(12.96% of cells contain ground)\n",
      "(pdal pipeline filters.smrf Debug) progressiveFilter: radius = 5\t1938090 ground cells\t299917 non-ground cells\t(13.40% of cells contain ground)\n",
      "(pdal pipeline filters.smrf Debug) progressiveFilter: radius = 6\t1925499 ground cells\t312508 non-ground cells\t(13.96% of cells contain ground)\n",
      "(pdal pipeline filters.smrf Debug) progressiveFilter: radius = 7\t1911658 ground cells\t326349 non-ground cells\t(14.58% of cells contain ground)\n",
      "(pdal pipeline filters.smrf Debug) progressiveFilter: radius = 8\t1898511 ground cells\t339496 non-ground cells\t(15.17% of cells contain ground)\n",
      "(pdal pipeline filters.smrf Debug) progressiveFilter: radius = 9\t1882672 ground cells\t355335 non-ground cells\t(15.88% of cells contain ground)\n",
      "(pdal pipeline filters.smrf Debug) progressiveFilter: radius = 10\t1869628 ground cells\t368379 non-ground cells\t(16.46% of cells contain ground)\n",
      "(pdal pipeline filters.smrf Debug) progressiveFilter: radius = 11\t1861525 ground cells\t376482 non-ground cells\t(16.82% of cells contain ground)\n",
      "(pdal pipeline filters.smrf Debug) progressiveFilter: radius = 12\t1854686 ground cells\t383321 non-ground cells\t(17.13% of cells contain ground)\n",
      "(pdal pipeline filters.smrf Debug) progressiveFilter: radius = 13\t1850208 ground cells\t387799 non-ground cells\t(17.33% of cells contain ground)\n",
      "(pdal pipeline filters.smrf Debug) progressiveFilter: radius = 14\t1845730 ground cells\t392277 non-ground cells\t(17.53% of cells contain ground)\n",
      "(pdal pipeline filters.smrf Debug) progressiveFilter: radius = 15\t1840343 ground cells\t397664 non-ground cells\t(17.77% of cells contain ground)\n",
      "(pdal pipeline filters.smrf Debug) progressiveFilter: radius = 16\t1835968 ground cells\t402039 non-ground cells\t(17.96% of cells contain ground)\n",
      "(pdal pipeline filters.smrf Debug) progressiveFilter: radius = 17\t1833342 ground cells\t404665 non-ground cells\t(18.08% of cells contain ground)\n",
      "(pdal pipeline filters.smrf Debug) progressiveFilter: radius = 18\t1826958 ground cells\t411049 non-ground cells\t(18.37% of cells contain ground)\n",
      "(pdal pipeline filters.smrf Debug) \t1399943 ground points\t207257 non-ground points\t(12.90% classified as ground)\n",
      "(pdal pipeline writers.las Debug) Wrote 1399943 points to the LAS file\n"
     ]
    },
    {
     "data": {
      "text/plain": [
       "0"
      ]
     },
     "execution_count": 84,
     "metadata": {},
     "output_type": "execute_result"
    }
   ],
   "source": [
    "os.system('pdal pipeline ../data/iowa.json --debug')"
   ]
  },
  {
   "cell_type": "code",
   "execution_count": 85,
   "id": "36243415-343b-4bb9-aa4e-8d6116c6b422",
   "metadata": {},
   "outputs": [
    {
     "name": "stdout",
     "output_type": "stream",
     "text": [
      "0...10...20...30...40...50...60...70...80...90...100 - done.\n"
     ]
    },
    {
     "data": {
      "text/plain": [
       "0"
      ]
     },
     "execution_count": 85,
     "metadata": {},
     "output_type": "execute_result"
    }
   ],
   "source": [
    "os.system('gdaldem color-relief iowa.tif dem-colors.txt iowa-color.png')"
   ]
  },
  {
   "cell_type": "code",
   "execution_count": 87,
   "id": "09bd0a6c-de12-435e-8961-718f17ca421b",
   "metadata": {},
   "outputs": [],
   "source": [
    "pipeline=pdal.Reader('../notebooks/iowa.laz').pipeline()"
   ]
  },
  {
   "cell_type": "code",
   "execution_count": 88,
   "id": "bae8595e-a372-4b31-b968-04018a899199",
   "metadata": {},
   "outputs": [],
   "source": [
    "count = pipeline.execute()"
   ]
  },
  {
   "cell_type": "code",
   "execution_count": 89,
   "id": "8deba767-48f1-4dc3-9b8f-86fb4762b8dd",
   "metadata": {},
   "outputs": [
    {
     "data": {
      "text/plain": [
       "[array([(447489.49, 4653264.75, 272.51, 147, 1, 1, 1, 0, 2, 1., 70, 79, 55109.20466874, 0, 0, 0),\n",
       "        (447485.82, 4653264.78, 272.44, 170, 1, 1, 0, 0, 2, 1., 70, 79, 55109.21870576, 0, 0, 0),\n",
       "        (447480.8 , 4653264.85, 272.36, 136, 1, 1, 1, 0, 2, 1., 70, 79, 55109.23216339, 0, 0, 0),\n",
       "        ...,\n",
       "        (446338.1 , 4652585.34, 282.08,  90, 1, 1, 1, 0, 2, 2., 69, 85, 56180.39031803, 0, 0, 0),\n",
       "        (446271.66, 4652586.13, 282.19,  12, 1, 1, 1, 0, 2, 4., 69, 85, 56180.5284318 , 0, 0, 0),\n",
       "        (446206.28, 4652586.53, 282.78,  44, 1, 1, 1, 0, 2, 6., 69, 85, 56180.66654557, 0, 0, 0)],\n",
       "       dtype=[('X', '<f8'), ('Y', '<f8'), ('Z', '<f8'), ('Intensity', '<u2'), ('ReturnNumber', 'u1'), ('NumberOfReturns', 'u1'), ('ScanDirectionFlag', 'u1'), ('EdgeOfFlightLine', 'u1'), ('Classification', 'u1'), ('ScanAngleRank', '<f4'), ('UserData', 'u1'), ('PointSourceId', '<u2'), ('GpsTime', '<f8'), ('Red', '<u2'), ('Green', '<u2'), ('Blue', '<u2')])]"
      ]
     },
     "execution_count": 89,
     "metadata": {},
     "output_type": "execute_result"
    }
   ],
   "source": [
    "arrays = pipeline.arrays\n",
    "arrays"
   ]
  },
  {
   "cell_type": "code",
   "execution_count": 90,
   "id": "f8bbf4ab-e1cf-4c03-82d2-af5e4c153f5f",
   "metadata": {},
   "outputs": [],
   "source": [
    "metadata = pipeline.metadata"
   ]
  },
  {
   "cell_type": "code",
   "execution_count": 91,
   "id": "9e6891b3-1a12-4a1c-90e5-448d2a62a2ff",
   "metadata": {},
   "outputs": [],
   "source": [
    "log = pipeline.log"
   ]
  },
  {
   "cell_type": "code",
   "execution_count": 92,
   "id": "2a9aad97-3aee-4189-a002-1fad0984ab87",
   "metadata": {},
   "outputs": [],
   "source": [
    "array = arrays.pop()"
   ]
  },
  {
   "cell_type": "code",
   "execution_count": 93,
   "id": "68862353-7191-4d1c-8e56-12d4bb730012",
   "metadata": {},
   "outputs": [
    {
     "data": {
      "text/plain": [
       "(1399943,)"
      ]
     },
     "execution_count": 93,
     "metadata": {},
     "output_type": "execute_result"
    }
   ],
   "source": [
    "array.shape"
   ]
  },
  {
   "cell_type": "code",
   "execution_count": 98,
   "id": "83619f6e-21b5-44d3-87cc-834137977281",
   "metadata": {},
   "outputs": [],
   "source": [
    "json_to_store = {\n",
    "    \"pipeline\": [\n",
    "        {\n",
    "\"bounds\": \"([-17347360,8065364], [-17321558,8091166])\",\n",
    "\"filename\": \"../data/AK_BrooksCamp_2012/ept.json\",\n",
    "\"type\": \"readers.ept\",\n",
    "\"tag\": \"readdata\"\n",
    "        },\n",
    "        {\n",
    "            \"limits\": \"Classification![7:7]\",\n",
    "            \"type\": \"filters.range\",\n",
    "            \"tag\": \"nonoise\"\n",
    "        },\n",
    "        {\n",
    "            \"assignment\": \"Classification[:]=0\",\n",
    "            \"tag\": \"wipeclasses\",\n",
    "            \"type\": \"filters.assign\"\n",
    "        },\n",
    "        {\n",
    "            \"out_srs\": \"EPSG:26915\",\n",
    "            \"tag\": \"reprojectUTM\",\n",
    "            \"type\": \"filters.reprojection\"\n",
    "        },\n",
    "        {\n",
    "            \"tag\": \"groundify\",\n",
    "            \"type\": \"filters.smrf\"\n",
    "        },\n",
    "        {\n",
    "            \"limits\": \"Classification[2:2]\",\n",
    "            \"type\": \"filters.range\",\n",
    "            \"tag\": \"classify\"\n",
    "        },\n",
    "        {\n",
    "            \"filename\": \"../data/brookscamp.laz\",\n",
    "            \"inputs\": [ \"classify\" ],\n",
    "            \"tag\": \"writerslas\",\n",
    "            \"type\": \"writers.las\"\n",
    "        },\n",
    "        {\n",
    "            \"filename\": \"../data/brookscamp.tif\",\n",
    "            \"gdalopts\": \"tiled=yes,     compress=deflate\",\n",
    "            \"inputs\": [ \"writerslas\" ],\n",
    "            \"nodata\": -9999,\n",
    "            \"output_type\": \"idw\",\n",
    "            \"resolution\": 1,\n",
    "            \"type\": \"writers.gdal\",\n",
    "            \"window_size\": 6\n",
    "        }\n",
    "    ]\n",
    "}"
   ]
  },
  {
   "cell_type": "code",
   "execution_count": 101,
   "id": "1348a790-3246-46f5-89f7-8895ff39d79e",
   "metadata": {},
   "outputs": [],
   "source": [
    "json_object = json.dumps(json_to_store, indent = 4)\n",
    "  \n",
    "# Writing to sample.json\n",
    "with open(\"../data/brookscamp.json\", \"w\") as outfile:\n",
    "    outfile.write(json_object)"
   ]
  },
  {
   "cell_type": "code",
   "execution_count": 102,
   "id": "20b3dd11-fbd1-4d75-bab8-128c74985f5c",
   "metadata": {},
   "outputs": [
    {
     "name": "stderr",
     "output_type": "stream",
     "text": [
      "(PDAL Debug) Debugging...\n",
      "PDAL: No closing ']' in range.\n",
      "\n"
     ]
    },
    {
     "data": {
      "text/plain": [
       "256"
      ]
     },
     "execution_count": 102,
     "metadata": {},
     "output_type": "execute_result"
    }
   ],
   "source": [
    "os.system('pdal pipeline ../data/brookscamp.json --debug')"
   ]
  },
  {
   "cell_type": "code",
   "execution_count": 85,
   "id": "9d3c3c4d-2327-4ba8-b4fb-9dcb88255396",
   "metadata": {},
   "outputs": [
    {
     "name": "stdout",
     "output_type": "stream",
     "text": [
      "0...10...20...30...40...50...60...70...80...90...100 - done.\n"
     ]
    },
    {
     "data": {
      "text/plain": [
       "0"
      ]
     },
     "execution_count": 85,
     "metadata": {},
     "output_type": "execute_result"
    }
   ],
   "source": [
    "os.system('gdaldem color-relief ../data/brookscamp.tif dem-colors.txt iowa-color.png')"
   ]
  },
  {
   "cell_type": "code",
   "execution_count": 87,
   "id": "d40b5f09-25fb-4f2e-afec-6a11c8e87e8b",
   "metadata": {},
   "outputs": [],
   "source": [
    "pipeline=pdal.Reader('../data/iowa.laz').pipeline()"
   ]
  },
  {
   "cell_type": "code",
   "execution_count": 88,
   "id": "9504316a-2f75-47cc-be94-dc674672930b",
   "metadata": {},
   "outputs": [],
   "source": [
    "count = pipeline.execute()"
   ]
  },
  {
   "cell_type": "code",
   "execution_count": 89,
   "id": "aadc4a06-566b-4136-b844-9848943e6fcc",
   "metadata": {},
   "outputs": [
    {
     "data": {
      "text/plain": [
       "[array([(447489.49, 4653264.75, 272.51, 147, 1, 1, 1, 0, 2, 1., 70, 79, 55109.20466874, 0, 0, 0),\n",
       "        (447485.82, 4653264.78, 272.44, 170, 1, 1, 0, 0, 2, 1., 70, 79, 55109.21870576, 0, 0, 0),\n",
       "        (447480.8 , 4653264.85, 272.36, 136, 1, 1, 1, 0, 2, 1., 70, 79, 55109.23216339, 0, 0, 0),\n",
       "        ...,\n",
       "        (446338.1 , 4652585.34, 282.08,  90, 1, 1, 1, 0, 2, 2., 69, 85, 56180.39031803, 0, 0, 0),\n",
       "        (446271.66, 4652586.13, 282.19,  12, 1, 1, 1, 0, 2, 4., 69, 85, 56180.5284318 , 0, 0, 0),\n",
       "        (446206.28, 4652586.53, 282.78,  44, 1, 1, 1, 0, 2, 6., 69, 85, 56180.66654557, 0, 0, 0)],\n",
       "       dtype=[('X', '<f8'), ('Y', '<f8'), ('Z', '<f8'), ('Intensity', '<u2'), ('ReturnNumber', 'u1'), ('NumberOfReturns', 'u1'), ('ScanDirectionFlag', 'u1'), ('EdgeOfFlightLine', 'u1'), ('Classification', 'u1'), ('ScanAngleRank', '<f4'), ('UserData', 'u1'), ('PointSourceId', '<u2'), ('GpsTime', '<f8'), ('Red', '<u2'), ('Green', '<u2'), ('Blue', '<u2')])]"
      ]
     },
     "execution_count": 89,
     "metadata": {},
     "output_type": "execute_result"
    }
   ],
   "source": [
    "arrays = pipeline.arrays\n",
    "arrays"
   ]
  },
  {
   "cell_type": "code",
   "execution_count": 90,
   "id": "7885c9f5-a5ba-4553-978c-f4d5c7d03646",
   "metadata": {},
   "outputs": [],
   "source": [
    "metadata = pipeline.metadata"
   ]
  },
  {
   "cell_type": "code",
   "execution_count": 91,
   "id": "b11994df-998c-4f22-9a19-528293c6dbf1",
   "metadata": {},
   "outputs": [],
   "source": [
    "log = pipeline.log"
   ]
  },
  {
   "cell_type": "code",
   "execution_count": 92,
   "id": "6b8dadca-ed76-4f2f-9b71-9ea67ab6e1db",
   "metadata": {},
   "outputs": [],
   "source": [
    "array = arrays.pop()"
   ]
  },
  {
   "cell_type": "code",
   "execution_count": 93,
   "id": "662e4a27-f480-4585-bb66-7be8d1e7e143",
   "metadata": {},
   "outputs": [
    {
     "data": {
      "text/plain": [
       "(1399943,)"
      ]
     },
     "execution_count": 93,
     "metadata": {},
     "output_type": "execute_result"
    }
   ],
   "source": [
    "array.shape"
   ]
  },
  {
   "cell_type": "code",
   "execution_count": null,
   "id": "223b55f4-e74c-4ba1-81db-e06cb67b26f5",
   "metadata": {},
   "outputs": [],
   "source": []
  }
 ],
 "metadata": {
  "kernelspec": {
   "display_name": "Python 3 (ipykernel)",
   "language": "python",
   "name": "python3"
  },
  "language_info": {
   "codemirror_mode": {
    "name": "ipython",
    "version": 3
   },
   "file_extension": ".py",
   "mimetype": "text/x-python",
   "name": "python",
   "nbconvert_exporter": "python",
   "pygments_lexer": "ipython3",
   "version": "3.10.5"
  }
 },
 "nbformat": 4,
 "nbformat_minor": 5
}
